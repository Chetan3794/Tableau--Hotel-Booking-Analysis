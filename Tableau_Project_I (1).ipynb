{
  "nbformat": 4,
  "nbformat_minor": 0,
  "metadata": {
    "colab": {
      "provenance": []
    },
    "kernelspec": {
      "name": "python3",
      "display_name": "Python 3"
    },
    "language_info": {
      "name": "python"
    }
  },
  "cells": [
    {
      "cell_type": "markdown",
      "source": [
        "# ***Students have to submit the dashboard link of their EDA capstone project 1 on Tableau.***\n",
        "---"
      ],
      "metadata": {
        "id": "Q76rNdYZn0zg"
      }
    },
    {
      "cell_type": "markdown",
      "source": [
        "# ***Materials and resources***\n",
        "---\n",
        "\n",
        "\n",
        "\n",
        "\n",
        "\n",
        "\n"
      ],
      "metadata": {
        "id": "YPErsEN7oHAr"
      }
    },
    {
      "cell_type": "markdown",
      "source": [
        "**Recordings:**\n",
        "\n",
        "https://learn.almabetter.com/courses/take/data-science-community-event/lessons/35517768-recording\n",
        "\n",
        "https://learn.almabetter.com/courses/take/data-science-community-event/lessons/35945687-recording\n",
        "\n",
        "https://learn.almabetter.com/courses/take/Analytics-Frameworks/lessons/25605469-tableau-i-recording\n",
        "\n",
        "https://learn.almabetter.com/courses/take/Analytics-Frameworks/lessons/25605471-tableau-ii-recording\n"
      ],
      "metadata": {
        "id": "VX7WDs2kqNYk"
      }
    },
    {
      "cell_type": "markdown",
      "source": [
        "**Materials:**\n",
        "\n",
        "https://public.tableau.com/app/resources/learn\n",
        "\n",
        "**Resources - > Download Tableau Public from here.**\n",
        "\n",
        "https://www.tableau.com/products/public/download"
      ],
      "metadata": {
        "id": "iweGxsk6qd34"
      }
    },
    {
      "cell_type": "markdown",
      "source": [
        "**Demo Tableau Dashboard Link - >**\n",
        "\n",
        "https://public.tableau.com/app/profile/saugata.deb/viz/saugatadeb_play_store_app_analysis/Dashboard1?publish=yes"
      ],
      "metadata": {
        "id": "jsMiyFEg7UCO"
      }
    },
    {
      "cell_type": "markdown",
      "source": [
        "## ***Note: Avoid copying from eachother, copying may lead to direct rejection. This is an individual submission.***\n"
      ],
      "metadata": {
        "id": "EOz95nNa2XKn"
      }
    },
    {
      "cell_type": "markdown",
      "source": [
        "Paste your Tableau public dashboard link here:\n",
        "\n",
        "https://public.tableau.com/app/profile/chetan.chavan8621/viz/HotelBookingAnalysis-Chetan/Dashboard2?publish=yes"
      ],
      "metadata": {
        "id": "lHXO_jcDoWxq"
      }
    },
    {
      "cell_type": "markdown",
      "source": [
        "https://public.tableau.com/app/profile/chetan.chavan8621/viz/HotelBookingAnalysis-Chetan/Dashboard1?publish=yes"
      ],
      "metadata": {
        "id": "NB3A28MbK4WJ"
      }
    }
  ]
}